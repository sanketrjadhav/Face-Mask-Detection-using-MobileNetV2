{
 "cells": [
  {
   "cell_type": "markdown",
   "metadata": {},
   "source": [
    "# Loading the model "
   ]
  },
  {
   "cell_type": "code",
   "execution_count": 1,
   "metadata": {},
   "outputs": [],
   "source": [
    "from tensorflow.keras.models import load_model\n",
    "model = load_model(r'dummy.model')"
   ]
  },
  {
   "cell_type": "markdown",
   "metadata": {},
   "source": [
    "# Initialize camera and face identifier"
   ]
  },
  {
   "cell_type": "code",
   "execution_count": 2,
   "metadata": {},
   "outputs": [],
   "source": [
    "import tensorflow as tf\n",
    "import cv2\n",
    "import numpy\n",
    "\n",
    "#starting the video stream\n",
    "cap = cv2.VideoCapture(0) \n",
    "\n",
    "#using the XML file for haarcascade classifier\n",
    "clf = cv2.CascadeClassifier(r\"haarcascade_frontalface_default.xml\")"
   ]
  },
  {
   "cell_type": "markdown",
   "metadata": {},
   "source": [
    "# Detecting the mask"
   ]
  },
  {
   "cell_type": "code",
   "execution_count": 3,
   "metadata": {},
   "outputs": [],
   "source": [
    "#using the loop to watch the stream in real time.\n",
    "while True:\n",
    "    (success, frame) = cap.read()  #reading the frame from the stream \n",
    "    new_img = cv2.resize(frame, (frame.shape[1] // 1, frame.shape[0] // 1)) #resizing the frame to speed up the process of detection\n",
    "    face = clf.detectMultiScale(new_img) #detecting faces from the frame(ROI)\n",
    "    for x,y,w,h in face:\n",
    "        try:\n",
    "            #getting the coordinates for the face detected\n",
    "            face_img = new_img[y:x+h, x:x+w]\n",
    "            #resizing the  face detected to fit into the model in the shape(224,224)\n",
    "            resized = cv2.resize(face_img,(224,224))\n",
    "            #converting the detected image into an array\n",
    "            image_array = tf.keras.preprocessing.image.img_to_array(resized) \n",
    "            #expanding the dimensions to fit in the model\n",
    "            image_array = tf.expand_dims(image_array,0) \n",
    "            #making predictions on the ROI\n",
    "            predictions = model.predict(image_array) \n",
    "            #getting the results\n",
    "            score = tf.nn.softmax(predictions[0])\n",
    "            label = numpy.argmax(score)\n",
    "        except Exception as e:\n",
    "            print('bad frame')\n",
    "            \n",
    "        if label == 0:\n",
    "            cv2.rectangle(new_img,(x,y),(x+w,y+h),(0,255,0),2)\n",
    "            cv2.putText(new_img,\"mask\",(x,y),cv2.FONT_HERSHEY_SIMPLEX,0.8,(0,255,0), 2)\n",
    "        elif label == 1:\n",
    "            cv2.rectangle(new_img,(x,y),(x+w,y+h),(0,0,255),2)\n",
    "            cv2.putText(new_img,'no_mask',(x,y),cv2.FONT_HERSHEY_SIMPLEX,0.8,(0,0,255), 2)\n",
    "        else:\n",
    "            None\n",
    "    #displaying the window after predicting the outcome\n",
    "    cv2.imshow('face_window', new_img)\n",
    "    #waitkey to terminate the loop\n",
    "    key = cv2.waitKey(10) \n",
    "    if key == ord('q'):\n",
    "        break\n",
    "#release the stream \n",
    "cap.release()\n",
    "cv2.destroyAllWindows()"
   ]
  },
  {
   "cell_type": "code",
   "execution_count": null,
   "metadata": {},
   "outputs": [],
   "source": []
  }
 ],
 "metadata": {
  "kernelspec": {
   "display_name": "Python 3",
   "language": "python",
   "name": "python3"
  },
  "language_info": {
   "codemirror_mode": {
    "name": "ipython",
    "version": 3
   },
   "file_extension": ".py",
   "mimetype": "text/x-python",
   "name": "python",
   "nbconvert_exporter": "python",
   "pygments_lexer": "ipython3",
   "version": "3.8.3"
  }
 },
 "nbformat": 4,
 "nbformat_minor": 4
}
